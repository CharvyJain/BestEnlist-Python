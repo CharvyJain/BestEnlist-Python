{
 "cells": [
  {
   "cell_type": "markdown",
   "metadata": {},
   "source": [
    "# Day - 6"
   ]
  },
  {
   "cell_type": "markdown",
   "metadata": {},
   "source": [
    "### 1) Write a Python script to merge two Python dictionaries"
   ]
  },
  {
   "cell_type": "code",
   "execution_count": 18,
   "metadata": {},
   "outputs": [],
   "source": [
    "dict1 = {\"India\" : \"Delhi\", \"France\" : \"Paris\", \"Cuba\" : \"Havana\", \"Germany\" : \"Berlin\", \"Japan\" : \"Tokyo\"}\n",
    "dict2 = {\"Indonesia\" : \"Jakarta\", \"Monaco\" : \"Monaco\", \"New Zealand\" : \"Wellington\"}"
   ]
  },
  {
   "cell_type": "code",
   "execution_count": 19,
   "metadata": {},
   "outputs": [
    {
     "name": "stdout",
     "output_type": "stream",
     "text": [
      "{'India': 'Delhi', 'France': 'Paris', 'Cuba': 'Havana', 'Germany': 'Berlin', 'Japan': 'Tokyo', 'Indonesia': 'Jakarta', 'Monaco': 'Monaco', 'New Zealand': 'Wellington'}\n"
     ]
    }
   ],
   "source": [
    "merge = {**dict1, **dict2}\n",
    "print(merge)"
   ]
  },
  {
   "cell_type": "markdown",
   "metadata": {},
   "source": [
    "### 2) Write a Python program to remove a key from a dictionary "
   ]
  },
  {
   "cell_type": "code",
   "execution_count": 20,
   "metadata": {},
   "outputs": [
    {
     "name": "stdout",
     "output_type": "stream",
     "text": [
      "{'India': 'Delhi', 'France': 'Paris', 'Germany': 'Berlin', 'Japan': 'Tokyo'}\n"
     ]
    }
   ],
   "source": [
    "dict1 = {\"India\" : \"Delhi\", \"France\" : \"Paris\", \"Cuba\" : \"Havana\", \"Germany\" : \"Berlin\", \"Japan\" : \"Tokyo\"}\n",
    "if 'Cuba' in dict1: \n",
    "    del dict1['Cuba']\n",
    "print(dict1)"
   ]
  },
  {
   "cell_type": "markdown",
   "metadata": {},
   "source": [
    "### 3) Write a Python program to map two lists into a dictionary "
   ]
  },
  {
   "cell_type": "code",
   "execution_count": 21,
   "metadata": {},
   "outputs": [
    {
     "name": "stdout",
     "output_type": "stream",
     "text": [
      "{'Panama': 'Panama City', 'Qatar': 'Doha', 'Singapore': 'Singapore'}\n"
     ]
    }
   ],
   "source": [
    "coun = [\"Panama\", \"Qatar\", \"Singapore\"]\n",
    "cap = [\"Panama City\", \"Doha\", \"Singapore\"]\n",
    "dicty = dict(zip(coun, cap))\n",
    "print(dicty)"
   ]
  },
  {
   "cell_type": "markdown",
   "metadata": {},
   "source": [
    "### 4) Write a Python program to find the length of a set "
   ]
  },
  {
   "cell_type": "code",
   "execution_count": 22,
   "metadata": {},
   "outputs": [
    {
     "name": "stdout",
     "output_type": "stream",
     "text": [
      "4\n"
     ]
    }
   ],
   "source": [
    "set1 = {\"Sri Lanka\", \"Sudan\", \"Suriname\", \"Sweden\"}\n",
    "length = len(set1)\n",
    "print(length)"
   ]
  },
  {
   "cell_type": "markdown",
   "metadata": {},
   "source": [
    "### 5) Write a Python program to remove the intersection of a 2nd set from the 1st set "
   ]
  },
  {
   "cell_type": "code",
   "execution_count": 23,
   "metadata": {},
   "outputs": [
    {
     "name": "stdout",
     "output_type": "stream",
     "text": [
      "\n",
      "Remove the intersection of a 2nd set from the 1st set using difference_update():\n",
      "1ST SET:  {'Sweden', 'Sri Lanka'}\n",
      "2ND SET:  {'Sudan', 'Stockholm', 'Suriname', 'Colombo'}\n"
     ]
    }
   ],
   "source": [
    "set1 = {\"Sri Lanka\", \"Sudan\", \"Suriname\", \"Sweden\"}\n",
    "set2 = {\"Colombo\", \"Suriname\", \"Sudan\", \"Stockholm\"}\n",
    "print(\"\\nRemove the intersection of a 2nd set from the 1st set using difference_update():\")\n",
    "set1.difference_update(set2)\n",
    "print(\"1ST SET: \",set1)\n",
    "print(\"2ND SET: \",set2)"
   ]
  }
 ],
 "metadata": {
  "kernelspec": {
   "display_name": "Python 3",
   "language": "python",
   "name": "python3"
  },
  "language_info": {
   "codemirror_mode": {
    "name": "ipython",
    "version": 3
   },
   "file_extension": ".py",
   "mimetype": "text/x-python",
   "name": "python",
   "nbconvert_exporter": "python",
   "pygments_lexer": "ipython3",
   "version": "3.8.6"
  }
 },
 "nbformat": 4,
 "nbformat_minor": 2
}
