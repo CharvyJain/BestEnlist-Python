{
 "cells": [
  {
   "cell_type": "markdown",
   "metadata": {},
   "source": [
    "# Day - 5"
   ]
  },
  {
   "cell_type": "markdown",
   "metadata": {},
   "source": [
    "### 1)\tWrite a program to create a list of n integer values and do the following •\tAdd an item in to the list (using function) •\tDelete (using function) •\tStore the largest number from the list to a variable •\tStore the Smallest number from the list to a variable\n"
   ]
  },
  {
   "cell_type": "code",
   "execution_count": 4,
   "metadata": {},
   "outputs": [
    {
     "name": "stdout",
     "output_type": "stream",
     "text": [
      "No. of items in list: 5\n",
      "Enter Numbers:96\n",
      "Enter Numbers:85\n",
      "Enter Numbers:42\n",
      "Enter Numbers:36\n",
      "Enter Numbers:58\n",
      "['96', '85', '42', '36', '58']\n"
     ]
    }
   ],
   "source": [
    "numbers = int(input(\"No. of items in list: \"))\n",
    "list1 = []\n",
    "for i in range(numbers):\n",
    "    num = input(\"Enter Numbers:\")\n",
    "    list1.append(num)\n",
    "print(list1) "
   ]
  },
  {
   "cell_type": "code",
   "execution_count": 5,
   "metadata": {},
   "outputs": [
    {
     "name": "stdout",
     "output_type": "stream",
     "text": [
      "['96', '85', '42', '36', '58']\n",
      "Enter the Number to be inserted63\n",
      "Enter the Position3\n",
      "['96', '85', '42', 63, '36', '58']\n"
     ]
    }
   ],
   "source": [
    "def adding():\n",
    "    print(list1)\n",
    "    num = int(input(\"Enter the Number to be inserted\"))\n",
    "    pos = int(input(\"Enter the Position\"))\n",
    "    list1.insert(pos, num)\n",
    "    print(list1)\n",
    "adding()"
   ]
  },
  {
   "cell_type": "code",
   "execution_count": 10,
   "metadata": {},
   "outputs": [
    {
     "name": "stdout",
     "output_type": "stream",
     "text": [
      "['96', '85', '42', 63, '36', '58']\n",
      "Enter Position to delete3\n",
      "['96', '85', '42', '36', '58']\n"
     ]
    }
   ],
   "source": [
    "def delete():\n",
    "    print(list1)\n",
    "    pos = int(input(\"Enter Position to delete\"))\n",
    "    list1.pop(pos)\n",
    "    print(list1)\n",
    "delete()"
   ]
  },
  {
   "cell_type": "code",
   "execution_count": 11,
   "metadata": {},
   "outputs": [
    {
     "name": "stdout",
     "output_type": "stream",
     "text": [
      "Maximum number is :  96\n"
     ]
    }
   ],
   "source": [
    "maximum = max(list1)\n",
    "print('Maximum number is : ',maximum)"
   ]
  },
  {
   "cell_type": "code",
   "execution_count": 12,
   "metadata": {},
   "outputs": [
    {
     "name": "stdout",
     "output_type": "stream",
     "text": [
      "Minimum number is :  36\n"
     ]
    }
   ],
   "source": [
    "minimum = min(list1)\n",
    "print('Minimum number is : ',minimum)"
   ]
  },
  {
   "cell_type": "markdown",
   "metadata": {},
   "source": [
    " ### 2) Create a tuple and print the reverse of the created tuple"
   ]
  },
  {
   "cell_type": "code",
   "execution_count": 17,
   "metadata": {},
   "outputs": [
    {
     "name": "stdout",
     "output_type": "stream",
     "text": [
      "The reversed tuple is <reversed object at 0x7f8af0504a90>\n",
      "(5, 4, 3, 2, 1)\n"
     ]
    }
   ],
   "source": [
    "tup1 = (1,2,3,4,5)\n",
    "new_tup = reversed(tup1)\n",
    "print(\"The reversed tuple is\", new_tup)\n",
    "print(tuple(new_tup))"
   ]
  },
  {
   "cell_type": "markdown",
   "metadata": {},
   "source": [
    "### 3) Create a tuple and convert tuple into listbb"
   ]
  },
  {
   "cell_type": "code",
   "execution_count": 18,
   "metadata": {},
   "outputs": [
    {
     "name": "stdout",
     "output_type": "stream",
     "text": [
      "List: [86, 59, 25, 63]\n"
     ]
    }
   ],
   "source": [
    "tuple = (86,59,25,63)\n",
    "list=list(tuple)\n",
    "print(\"List:\",list)"
   ]
  }
 ],
 "metadata": {
  "kernelspec": {
   "display_name": "Python 3",
   "language": "python",
   "name": "python3"
  },
  "language_info": {
   "codemirror_mode": {
    "name": "ipython",
    "version": 3
   },
   "file_extension": ".py",
   "mimetype": "text/x-python",
   "name": "python",
   "nbconvert_exporter": "python",
   "pygments_lexer": "ipython3",
   "version": "3.8.6"
  }
 },
 "nbformat": 4,
 "nbformat_minor": 2
}
