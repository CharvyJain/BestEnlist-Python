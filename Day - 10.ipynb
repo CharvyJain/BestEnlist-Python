{
 "cells": [
  {
   "cell_type": "markdown",
   "metadata": {},
   "source": [
    "# Day - 10"
   ]
  },
  {
   "cell_type": "markdown",
   "metadata": {},
   "source": [
    "### Banking Portal"
   ]
  },
  {
   "cell_type": "code",
   "execution_count": 18,
   "metadata": {},
   "outputs": [],
   "source": [
    "import random\n",
    "class bank:\n",
    "    def selfDetails(self):\n",
    "        print(\"DETAILS:\\n\")\n",
    "        print('Name Of Account Holder:', self.name)\n",
    "        print('Account Number:', self.account)\n",
    "        print('Current Balance: Rs.', self.balance)\n",
    "        \n",
    "    def print_bal(self):\n",
    "        print('Available Balance:', self.balance)\n",
    "                 \n",
    "    def deposit(self):\n",
    "        amount = float(input(\"\\nEnter the amount to deposit: \"))\n",
    "        self.balance += amount\n",
    "        print(\"credited successfully to your bank account.\")\n",
    "               \n",
    "    def withdraw(self):\n",
    "        amount = float(input('\\nEnter the amount to withdraw: '))\n",
    "        if self.balance >= amount:\n",
    "            self.balance -= amount\n",
    "            print(\"withdrawn successfully from your account.\")\n",
    "        else:\n",
    "            print(\"\\nAmount cannot be withdrawn as you have insuffiecient balance.\")\n",
    "            \n",
    "class Main(bank):\n",
    "    def __init__(self):\n",
    "        print(\"Welcome to India Bank\")\n",
    "        self.name = input(\"Enter your Name: \")\n",
    "        self.account = input(\"Enter Account Number: \")\n",
    "        self.balance = float(random.randint(2000, 50000))\n",
    "        \n",
    "    def options(self):\n",
    "        while True:\n",
    "            print(\"1. Deposit\")\n",
    "            print(\"2. Withdrawal\")\n",
    "            print(\"3. Exit\")\n",
    "            option = input('Enter the option: ')\n",
    "            if option == '3':\n",
    "                print('\\nThank You!')\n",
    "                return\n",
    "            elif option == '1':\n",
    "                super().deposit()\n",
    "                super().print_bal()\n",
    "            elif option == '2':\n",
    "                super().withdraw()\n",
    "                super().print_bal()               \n",
    "            else:\n",
    "                print('\\nEnter a valid option!')\n",
    "                "
   ]
  },
  {
   "cell_type": "code",
   "execution_count": 19,
   "metadata": {
    "scrolled": true
   },
   "outputs": [
    {
     "name": "stdout",
     "output_type": "stream",
     "text": [
      "Welcome to India Bank\n",
      "Enter your Name: shaanvi\n",
      "Enter Account Number: 45328964\n"
     ]
    }
   ],
   "source": [
    "first = Main()"
   ]
  },
  {
   "cell_type": "code",
   "execution_count": 20,
   "metadata": {},
   "outputs": [
    {
     "name": "stdout",
     "output_type": "stream",
     "text": [
      "1. Deposit\n",
      "2. Withdrawal\n",
      "3. Exit\n",
      "Enter the option: 1\n",
      "\n",
      "Enter the amount to deposit: 698\n",
      "credited successfully to your bank account.\n",
      "Available Balance: 16473.0\n",
      "1. Deposit\n",
      "2. Withdrawal\n",
      "3. Exit\n",
      "Enter the option: 2000\n",
      "\n",
      "Enter a valid option!\n",
      "1. Deposit\n",
      "2. Withdrawal\n",
      "3. Exit\n",
      "Enter the option: 2\n",
      "\n",
      "Enter the amount to withdraw: 52220\n",
      "\n",
      "Amount cannot be withdrawn as you have insuffiecient balance.\n",
      "Available Balance: 16473.0\n",
      "1. Deposit\n",
      "2. Withdrawal\n",
      "3. Exit\n",
      "Enter the option: 3\n",
      "\n",
      "Thank You!\n"
     ]
    }
   ],
   "source": [
    "first.options()"
   ]
  }
 ],
 "metadata": {
  "kernelspec": {
   "display_name": "Python 3",
   "language": "python",
   "name": "python3"
  },
  "language_info": {
   "codemirror_mode": {
    "name": "ipython",
    "version": 3
   },
   "file_extension": ".py",
   "mimetype": "text/x-python",
   "name": "python",
   "nbconvert_exporter": "python",
   "pygments_lexer": "ipython3",
   "version": "3.8.6"
  }
 },
 "nbformat": 4,
 "nbformat_minor": 2
}
