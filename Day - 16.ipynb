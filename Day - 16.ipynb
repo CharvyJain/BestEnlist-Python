{
 "cells": [
  {
   "cell_type": "markdown",
   "metadata": {},
   "source": [
    "# Day - 16"
   ]
  },
  {
   "cell_type": "markdown",
   "metadata": {},
   "source": [
    "### 1. Create a lambda function that multiplies argument x with argument y"
   ]
  },
  {
   "cell_type": "code",
   "execution_count": 1,
   "metadata": {},
   "outputs": [
    {
     "name": "stdout",
     "output_type": "stream",
     "text": [
      "24\n"
     ]
    }
   ],
   "source": [
    "l = lambda x, y: x * y\n",
    "print(l(8,3))"
   ]
  },
  {
   "cell_type": "markdown",
   "metadata": {},
   "source": [
    "### 2. Write a program to create Fibonacci series to n using Lambda"
   ]
  },
  {
   "cell_type": "code",
   "execution_count": 2,
   "metadata": {},
   "outputs": [
    {
     "name": "stdout",
     "output_type": "stream",
     "text": [
      "Enter the limit: 8\n"
     ]
    },
    {
     "data": {
      "text/plain": [
       "[0, 1, 1, 2, 3, 5, 8, 13]"
      ]
     },
     "execution_count": 2,
     "metadata": {},
     "output_type": "execute_result"
    }
   ],
   "source": [
    "def fibonacci():\n",
    "    n = int(input('Enter the limit: '))\n",
    "    fib = [0, 1]\n",
    "    any(map(lambda x : fib.append(sum(fib[-2:])), range(n-2)))\n",
    "    return fib\n",
    "fibonacci()"
   ]
  },
  {
   "cell_type": "markdown",
   "metadata": {},
   "source": [
    "### 3. Write a program that multiply each number of given list with a given number"
   ]
  },
  {
   "cell_type": "code",
   "execution_count": 3,
   "metadata": {},
   "outputs": [
    {
     "name": "stdout",
     "output_type": "stream",
     "text": [
      "[56, 4, 32, 56, 89, 5]\n",
      "Enter a number: 5\n"
     ]
    },
    {
     "data": {
      "text/plain": [
       "[280, 20, 160, 280, 445, 25]"
      ]
     },
     "execution_count": 3,
     "metadata": {},
     "output_type": "execute_result"
    }
   ],
   "source": [
    "num = [56, 4, 32, 56, 89, 5]\n",
    "print(num)\n",
    "n = int(input(\"Enter a number: \"))\n",
    "list(map(lambda x:x*n,num))"
   ]
  },
  {
   "cell_type": "markdown",
   "metadata": {},
   "source": [
    "### 4. Write a Python program to find numbers divisible by 9 from a list of numbers"
   ]
  },
  {
   "cell_type": "code",
   "execution_count": 5,
   "metadata": {},
   "outputs": [
    {
     "name": "stdout",
     "output_type": "stream",
     "text": [
      "List: [56, 12, 63, 98, 45, 54, 76, 73]\n",
      "Numbers divisible by 9: [63, 45, 54]\n"
     ]
    }
   ],
   "source": [
    "lst = [56, 12, 63, 98, 45, 54, 76, 73]\n",
    "div9 = list(filter(lambda x : (x % 9 == 0), lst))\n",
    "print('List:', lst)\n",
    "print('Numbers divisible by 9:', div9)"
   ]
  },
  {
   "cell_type": "markdown",
   "metadata": {},
   "source": [
    "### 5. Write a program to count the even numbers in a given list of integers"
   ]
  },
  {
   "cell_type": "code",
   "execution_count": 7,
   "metadata": {},
   "outputs": [
    {
     "name": "stdout",
     "output_type": "stream",
     "text": [
      "List: [56, 12, 63, 98, 45, 54, 76, 73]\n",
      "Even Numbers: [56, 12, 98, 54, 76]\n",
      "Count: 5\n"
     ]
    }
   ],
   "source": [
    "lst = [56, 12, 63, 98, 45, 54, 76, 73]\n",
    "even = list(filter(lambda x : (x % 2 == 0), lst))\n",
    "print('List:', lst)\n",
    "print('Even Numbers:', even)\n",
    "print('Count:', len(even))"
   ]
  }
 ],
 "metadata": {
  "kernelspec": {
   "display_name": "Python 3",
   "language": "python",
   "name": "python3"
  },
  "language_info": {
   "codemirror_mode": {
    "name": "ipython",
    "version": 3
   },
   "file_extension": ".py",
   "mimetype": "text/x-python",
   "name": "python",
   "nbconvert_exporter": "python",
   "pygments_lexer": "ipython3",
   "version": "3.8.6"
  }
 },
 "nbformat": 4,
 "nbformat_minor": 4
}
