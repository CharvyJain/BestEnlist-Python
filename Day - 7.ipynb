{
 "cells": [
  {
   "cell_type": "markdown",
   "metadata": {},
   "source": [
    "# Day - 7"
   ]
  },
  {
   "cell_type": "markdown",
   "metadata": {},
   "source": [
    "### 1. Create a function getting two integer inputs from user. & print the following:\n",
    "- Addition of two numbers is +value\n",
    "- Subtraction of two numbers is +value \n",
    "- Division of two numbers is +value\n",
    "- Multiplication of two numbers is +value\n",
    "Here the value represents math function associated"
   ]
  },
  {
   "cell_type": "code",
   "execution_count": 5,
   "metadata": {},
   "outputs": [
    {
     "name": "stdout",
     "output_type": "stream",
     "text": [
      "Enter 1st Number40\n",
      "Enter 2nd Number36\n",
      "Addition of two numbers 76\n",
      "Subtraction of two numbers 4\n",
      "Division of two numbers 1.1111111111111112\n",
      "Multiplication of two numbers 1440\n"
     ]
    }
   ],
   "source": [
    "def mathfun():\n",
    "    a = int(input(\"Enter 1st Number\"))\n",
    "    b = int(input(\"Enter 2nd Number\"))\n",
    "    print(\"Addition of two numbers \" + str(a + b))\n",
    "    print(\"Subtraction of two numbers \" + str(a - b))\n",
    "    print(\"Division of two numbers \" + str(a / b))\n",
    "    print(\"Multiplication of two numbers \" + str(a * b))\n",
    "mathfun()"
   ]
  },
  {
   "cell_type": "markdown",
   "metadata": {},
   "source": [
    "### 2. Create a function covid( ) & it should accept patient name, and body temperature, by default the body temperature should be 98 degree"
   ]
  },
  {
   "cell_type": "code",
   "execution_count": 6,
   "metadata": {},
   "outputs": [
    {
     "name": "stdout",
     "output_type": "stream",
     "text": [
      "virus\n",
      "98\n"
     ]
    }
   ],
   "source": [
    "def covid(name, body_temp = 98):\n",
    "    print(name)\n",
    "    print(body_temp)\n",
    "covid(\"virus\")    "
   ]
  }
 ],
 "metadata": {
  "kernelspec": {
   "display_name": "Python 3",
   "language": "python",
   "name": "python3"
  },
  "language_info": {
   "codemirror_mode": {
    "name": "ipython",
    "version": 3
   },
   "file_extension": ".py",
   "mimetype": "text/x-python",
   "name": "python",
   "nbconvert_exporter": "python",
   "pygments_lexer": "ipython3",
   "version": "3.8.6"
  }
 },
 "nbformat": 4,
 "nbformat_minor": 2
}
