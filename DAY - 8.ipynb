{
 "cells": [
  {
   "cell_type": "markdown",
   "metadata": {},
   "source": [
    "# DAY - 8"
   ]
  },
  {
   "cell_type": "markdown",
   "metadata": {},
   "source": [
    "### 1. Write a Python script to merge two Python dictionaries"
   ]
  },
  {
   "cell_type": "code",
   "execution_count": 1,
   "metadata": {},
   "outputs": [
    {
     "name": "stdout",
     "output_type": "stream",
     "text": [
      "{'5': '6', '7': '8', '1': '2', '3': '4'}\n"
     ]
    }
   ],
   "source": [
    "dict1 = {\"1\": \"2\", \"3\": \"4\"}\n",
    "dict2 = {\"5\": \"6\", \"7\": \"8\"}\n",
    "merge = dict2.update(dict1)\n",
    "print(dict2)"
   ]
  },
  {
   "cell_type": "markdown",
   "metadata": {},
   "source": [
    "### 2. Write a program to sort the value from descending to ascending in list and convert it in to a set."
   ]
  },
  {
   "cell_type": "code",
   "execution_count": 2,
   "metadata": {},
   "outputs": [
    {
     "name": "stdout",
     "output_type": "stream",
     "text": [
      "[10, 9, 8, 7, 6]\n",
      "{6, 7, 8, 9, 10}\n"
     ]
    }
   ],
   "source": [
    "lis = [8, 6, 7, 10, 9]\n",
    "lis.sort(reverse=True)\n",
    "print(lis)\n",
    "print(set(lis))"
   ]
  },
  {
   "cell_type": "markdown",
   "metadata": {},
   "source": [
    "### 3. Write a Python program to list number of items in a dictionary key and sort the list with the help of a function & without the function."
   ]
  },
  {
   "cell_type": "code",
   "execution_count": 5,
   "metadata": {},
   "outputs": [
    {
     "name": "stdout",
     "output_type": "stream",
     "text": [
      "['jan', 'feb', 'mar', 'apr']\n"
     ]
    }
   ],
   "source": [
    "dic = {\"jan\": 1,\"feb\": 2, \"mar\": 3,\"apr\": 4}\n",
    "key = dic.keys()\n",
    "keyInList = list(key)\n",
    "print(keyInList)"
   ]
  },
  {
   "cell_type": "code",
   "execution_count": 26,
   "metadata": {},
   "outputs": [
    {
     "name": "stdout",
     "output_type": "stream",
     "text": [
      "apr : 4 ,feb : 2 ,jan : 1 ,mar : 3 ,"
     ]
    }
   ],
   "source": [
    "dic={\"jan\": 1,\"feb\": 2, \"mar\": 3,\"apr\": 4}\n",
    "a=dic.keys()\n",
    "b=list(a)\n",
    "z=[]\n",
    "for a in range(len(b)): \n",
    "    for j in range(a+1,len(b)):\n",
    "        if(b[a]>b[j]):\n",
    "            temp=b[a]\n",
    "            b[a]=b[j]\n",
    "            b[j]=temp\n",
    "\n",
    "\n",
    "for a in range(len(b)):\n",
    "    print(b[a],\":\",dic[b[a]],\",\",end=\"\")"
   ]
  },
  {
   "cell_type": "code",
   "execution_count": 20,
   "metadata": {},
   "outputs": [
    {
     "name": "stdout",
     "output_type": "stream",
     "text": [
      "apr\n",
      "feb\n",
      "jan\n",
      "mar\n"
     ]
    }
   ],
   "source": [
    "for i in sorted(keyInList):\n",
    "    print(i)"
   ]
  },
  {
   "cell_type": "markdown",
   "metadata": {},
   "source": [
    "### 4. Write a Python program to get a string from a given string (user input) and change the first occurrence of the word to a user specified input."
   ]
  },
  {
   "cell_type": "code",
   "execution_count": 9,
   "metadata": {},
   "outputs": [
    {
     "name": "stdout",
     "output_type": "stream",
     "text": [
      "Enter any String: pyhton\n",
      "Enter letter to change: t\n",
      "pyhton\n"
     ]
    }
   ],
   "source": [
    "string1 = input(\"Enter any String: \")\n",
    "l = str(input(\"Enter letter to change: \"))\n",
    "string2 = string1.replace(\"string1[0]\", \"l\")\n",
    "print(string2)"
   ]
  },
  {
   "cell_type": "markdown",
   "metadata": {},
   "source": [
    "### 5. Write a Python program to get a string from a given string where all occurrences of its first char have been changed to capital letter."
   ]
  },
  {
   "cell_type": "code",
   "execution_count": 11,
   "metadata": {},
   "outputs": [
    {
     "name": "stdout",
     "output_type": "stream",
     "text": [
      "Enter The tring: python is a object oriented language\n",
      "Result:  Python Is A Object Oriented Language\n"
     ]
    }
   ],
   "source": [
    "userinp = input(\"Enter The tring: \")\n",
    "print(\"Result: \", userinp.title())"
   ]
  },
  {
   "cell_type": "markdown",
   "metadata": {},
   "source": [
    "### 6. Write a Python program to find the repeated items of a list"
   ]
  },
  {
   "cell_type": "code",
   "execution_count": 13,
   "metadata": {},
   "outputs": [
    {
     "name": "stdout",
     "output_type": "stream",
     "text": [
      "Repeated items : [59, 65, 98]\n"
     ]
    }
   ],
   "source": [
    "list1 = [59, 65, 98, 56, 65, 59, 98]\n",
    "list2=[]\n",
    "for i in list1:\n",
    "    if list1.count(i) > 1:\n",
    "        if(i not in list2):\n",
    "            list2.append(i)\n",
    "print(\"Repeated items :\",list2)"
   ]
  },
  {
   "cell_type": "markdown",
   "metadata": {},
   "source": [
    "### 7. Write a Python program to check the sum of three elements and divided by a value which is given as an input by the user"
   ]
  },
  {
   "cell_type": "code",
   "execution_count": 14,
   "metadata": {},
   "outputs": [
    {
     "name": "stdout",
     "output_type": "stream",
     "text": [
      "Enter number to be divided5\n",
      "The sum after dividing  :  5.4\n"
     ]
    }
   ],
   "source": [
    "a = 10\n",
    "b = 9\n",
    "c = 8\n",
    "sum = a + b + c\n",
    "user = int(input(\"Enter number to be divided\"))\n",
    "print(\"The sum after dividing  : \", sum / user)"
   ]
  },
  {
   "cell_type": "markdown",
   "metadata": {},
   "source": [
    "### 8. Write a Python program to find the Mean,median,mode among three given numbers"
   ]
  },
  {
   "cell_type": "code",
   "execution_count": 15,
   "metadata": {},
   "outputs": [
    {
     "name": "stdout",
     "output_type": "stream",
     "text": [
      "Mean  : 29.666666666666668\n",
      "Median:   25\n",
      "Mode :  50\n"
     ]
    }
   ],
   "source": [
    "import statistics\n",
    "a = 50\n",
    "b = 25\n",
    "c = 14\n",
    "mean = (a + b + c) / 3\n",
    "l = [a,b,c]\n",
    "print(\"Mean  :\", statistics.mean(l))\n",
    "print(\"Median:  \", statistics.median(l))\n",
    "print(\"Mode : \", statistics.mode(l))"
   ]
  },
  {
   "cell_type": "markdown",
   "metadata": {},
   "source": [
    "### 9.Write a Python program to swap cases of a given string"
   ]
  },
  {
   "cell_type": "code",
   "execution_count": 17,
   "metadata": {},
   "outputs": [
    {
     "name": "stdout",
     "output_type": "stream",
     "text": [
      "Enter a string:HEllo PyThoN\n",
      "heLLO pYtHOn\n"
     ]
    }
   ],
   "source": [
    "userinp = input(\"Enter a string:\")\n",
    "print(userinp.swapcase())"
   ]
  },
  {
   "cell_type": "markdown",
   "metadata": {},
   "source": [
    "### 10. Write a program to convert an integer to binary & octa decimal"
   ]
  },
  {
   "cell_type": "code",
   "execution_count": 18,
   "metadata": {},
   "outputs": [
    {
     "name": "stdout",
     "output_type": "stream",
     "text": [
      "After converting to Binary :  0b1111\n",
      "After converting to Octal :  0o17\n"
     ]
    }
   ],
   "source": [
    "x = 15\n",
    "print(\"After converting to Binary : \", bin(x))\n",
    "print(\"After converting to Octal : \", oct(x))"
   ]
  }
 ],
 "metadata": {
  "kernelspec": {
   "display_name": "Python 3",
   "language": "python",
   "name": "python3"
  },
  "language_info": {
   "codemirror_mode": {
    "name": "ipython",
    "version": 3
   },
   "file_extension": ".py",
   "mimetype": "text/x-python",
   "name": "python",
   "nbconvert_exporter": "python",
   "pygments_lexer": "ipython3",
   "version": "3.8.6"
  }
 },
 "nbformat": 4,
 "nbformat_minor": 2
}
