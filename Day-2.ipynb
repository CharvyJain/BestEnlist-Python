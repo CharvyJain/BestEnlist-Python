{
 "cells": [
  {
   "cell_type": "markdown",
   "metadata": {},
   "source": [
    "# Day - 2"
   ]
  },
  {
   "cell_type": "code",
   "execution_count": 1,
   "metadata": {},
   "outputs": [
    {
     "name": "stdout",
     "output_type": "stream",
     "text": [
      "30 days 30 hour challenge\n",
      "30 days 30 hour challenge\n"
     ]
    }
   ],
   "source": [
    "# How to print a value? \n",
    "print(\"30 days 30 hour challenge\") \n",
    "print('30 days 30 hour challenge')"
   ]
  },
  {
   "cell_type": "code",
   "execution_count": 2,
   "metadata": {},
   "outputs": [
    {
     "name": "stdout",
     "output_type": "stream",
     "text": [
      "thirty\n"
     ]
    }
   ],
   "source": [
    "# Assigning String to Variable: \n",
    " \n",
    "Hours = \"thirty\" \n",
    "print(Hours)"
   ]
  },
  {
   "cell_type": "code",
   "execution_count": 3,
   "metadata": {},
   "outputs": [
    {
     "name": "stdout",
     "output_type": "stream",
     "text": [
      "T\n"
     ]
    }
   ],
   "source": [
    " # Indexing using String: \n",
    " \n",
    "Days = \"Thirty days\" \n",
    "print(Days[0])"
   ]
  },
  {
   "cell_type": "code",
   "execution_count": 4,
   "metadata": {},
   "outputs": [
    {
     "name": "stdout",
     "output_type": "stream",
     "text": [
      "win\n"
     ]
    }
   ],
   "source": [
    "# How to print the particular character from certain\n",
    " \n",
    "Challenge = \"I will win\" \n",
    "print(Challenge[7:10]) "
   ]
  },
  {
   "cell_type": "code",
   "execution_count": 5,
   "metadata": {},
   "outputs": [
    {
     "name": "stdout",
     "output_type": "stream",
     "text": [
      "10\n"
     ]
    }
   ],
   "source": [
    "# Print the length of Character: \n",
    " \n",
    "Challenge = \"I will win\" \n",
    "print(len(Challenge)) "
   ]
  },
  {
   "cell_type": "code",
   "execution_count": 6,
   "metadata": {},
   "outputs": [
    {
     "name": "stdout",
     "output_type": "stream",
     "text": [
      "i will win\n"
     ]
    }
   ],
   "source": [
    "# Convert String into lower character; \n",
    " \n",
    "Challenge = \"I will win\" \n",
    "print(Challenge.lower()) "
   ]
  },
  {
   "cell_type": "code",
   "execution_count": 7,
   "metadata": {},
   "outputs": [
    {
     "name": "stdout",
     "output_type": "stream",
     "text": [
      "30 Days30 hours\n",
      "30 Days 30 hours\n"
     ]
    }
   ],
   "source": [
    "# String Concatenation – Joining two strings \n",
    "a = \"30 Days\" \n",
    "b = \"30 hours\" \n",
    "c = a + b \n",
    "print(c) \n",
    " \n",
    "# Adding space during concatenation  \n",
    "a = \"30 Days\" \n",
    "b = \"30 hours\" \n",
    "c = a + \" \" + b \n",
    "print(c) "
   ]
  },
  {
   "cell_type": "code",
   "execution_count": 9,
   "metadata": {},
   "outputs": [
    {
     "name": "stdout",
     "output_type": "stream",
     "text": [
      "thirty days and thirty hours\n"
     ]
    }
   ],
   "source": [
    "\n",
    "# casefold() - Usage \n",
    "text = \"Thirty days and Thirty hours\" \n",
    "x = text.casefold() \n",
    "print(x)"
   ]
  },
  {
   "cell_type": "code",
   "execution_count": 14,
   "metadata": {},
   "outputs": [
    {
     "name": "stdout",
     "output_type": "stream",
     "text": [
      "Capitalize: Don’t trouble trouble until trouble troubles you.\n",
      "Finding t: -1\n",
      "IsAlpha: False\n",
      "IsNumeric: False\n"
     ]
    }
   ],
   "source": [
    "string1 = \"DON’T TROUBLE TROUBLE UNTIL TROUBLE TROUBLES YOU.\"\n",
    " \n",
    "cap = string1.capitalize() \n",
    "find1 = string1.find(\"t\") \n",
    "alpha = string1.isalpha() \n",
    "num = string1.isalnum() \n",
    "\n",
    "print(\"Capitalize: \" + cap)\n",
    "print(\"Finding t: \" + str(find1))\n",
    "print(\"IsAlpha: \" + str(alpha))\n",
    "print(\"IsNumeric: \" + str(num))"
   ]
  }
 ],
 "metadata": {
  "kernelspec": {
   "display_name": "Python 3",
   "language": "python",
   "name": "python3"
  },
  "language_info": {
   "codemirror_mode": {
    "name": "ipython",
    "version": 3
   },
   "file_extension": ".py",
   "mimetype": "text/x-python",
   "name": "python",
   "nbconvert_exporter": "python",
   "pygments_lexer": "ipython3",
   "version": "3.8.6"
  }
 },
 "nbformat": 4,
 "nbformat_minor": 2
}
