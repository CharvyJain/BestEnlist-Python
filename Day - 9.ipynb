{
 "cells": [
  {
   "cell_type": "markdown",
   "metadata": {},
   "source": [
    "# DAY - 9"
   ]
  },
  {
   "cell_type": "markdown",
   "metadata": {},
   "source": [
    "### 1. Write a program to loop through a list of numbers and add +2 to every value to elements in list"
   ]
  },
  {
   "cell_type": "code",
   "execution_count": 2,
   "metadata": {},
   "outputs": [
    {
     "name": "stdout",
     "output_type": "stream",
     "text": [
      "[100, 67, 27, 38, 91]\n"
     ]
    }
   ],
   "source": [
    "list1 = [98, 65, 25, 36, 89]\n",
    "for i in range(0, len(list1)):\n",
    "    list1[i] = list1[i] + 2\n",
    "print(list1)"
   ]
  },
  {
   "cell_type": "markdown",
   "metadata": {},
   "source": [
    "### 2. Write a program to get the below pattern\n",
    "- 54321\n",
    "- 4321\n",
    "- 321\n",
    "- 21\n",
    "- 1"
   ]
  },
  {
   "cell_type": "code",
   "execution_count": 3,
   "metadata": {},
   "outputs": [
    {
     "name": "stdout",
     "output_type": "stream",
     "text": [
      "54321\n",
      "4321\n",
      "321\n",
      "21\n",
      "1\n"
     ]
    }
   ],
   "source": [
    "for i in range(5, 0, -1):\n",
    "    for j in range(i, 0, -1):\n",
    "        print(j, end=\"\")\n",
    "    print()"
   ]
  },
  {
   "cell_type": "markdown",
   "metadata": {},
   "source": [
    "### 3. Python Program to Print the Fibonacci sequence"
   ]
  },
  {
   "cell_type": "code",
   "execution_count": 5,
   "metadata": {},
   "outputs": [
    {
     "name": "stdout",
     "output_type": "stream",
     "text": [
      "0\n",
      "1\n",
      "1\n",
      "2\n",
      "3\n"
     ]
    }
   ],
   "source": [
    "def fibo(n):\n",
    "    n1, n2 = 0, 1\n",
    "    count = 0\n",
    "    if n == 1 or n == 2:\n",
    "        print('1')\n",
    "    else :\n",
    "         while count < n:\n",
    "                print(n1)\n",
    "                nth = n1 + n2\n",
    "                n1 = n2\n",
    "                n2 = nth\n",
    "                count += 1\n",
    "fibo(5)"
   ]
  },
  {
   "cell_type": "markdown",
   "metadata": {},
   "source": [
    "### 4. Explain Armstrong number and write a code with a function"
   ]
  },
  {
   "cell_type": "code",
   "execution_count": 6,
   "metadata": {},
   "outputs": [
    {
     "name": "stdout",
     "output_type": "stream",
     "text": [
      "Enter a number: 693\n",
      "693 is not an Armstrong number\n"
     ]
    }
   ],
   "source": [
    "num = int(input(\"Enter a number: \"))\n",
    "sum1 = 0\n",
    "temp1 = num\n",
    "while temp1 > 0:\n",
    "    digit1 = temp1 % 10\n",
    "    sum1 += digit1 ** 3\n",
    "    temp1 //= 10\n",
    "if num == sum1:\n",
    "    print(num,\"is an Armstrong number\")\n",
    "else:\n",
    "    print(num,\"is not an Armstrong number\")"
   ]
  },
  {
   "cell_type": "markdown",
   "metadata": {},
   "source": [
    "### 5. Write a program to print the multiplication table of 9"
   ]
  },
  {
   "cell_type": "code",
   "execution_count": 7,
   "metadata": {},
   "outputs": [
    {
     "name": "stdout",
     "output_type": "stream",
     "text": [
      "9 x  1  =  9\n",
      "9 x  2  =  18\n",
      "9 x  3  =  27\n",
      "9 x  4  =  36\n",
      "9 x  5  =  45\n",
      "9 x  6  =  54\n",
      "9 x  7  =  63\n",
      "9 x  8  =  72\n",
      "9 x  9  =  81\n",
      "9 x  10  =  90\n",
      "9 x  11  =  99\n",
      "9 x  12  =  108\n"
     ]
    }
   ],
   "source": [
    "for i in range(1,13):\n",
    "    print(\"9 x \",i,' = ',i*9 )"
   ]
  },
  {
   "cell_type": "markdown",
   "metadata": {},
   "source": [
    "### 6. Check if a program is negative or positive"
   ]
  },
  {
   "cell_type": "code",
   "execution_count": 9,
   "metadata": {},
   "outputs": [
    {
     "name": "stdout",
     "output_type": "stream",
     "text": [
      "Enter Any Number : 89\n",
      "Number is Positive.\n"
     ]
    }
   ],
   "source": [
    "number = int(input(\"Enter Any Number : \"))\n",
    "if number < 0:\n",
    "    print(\"Number is Negative.\")\n",
    "elif number > 0:\n",
    "    print(\"Number is Positive.\")\n",
    "else:\n",
    "    print('ZERO!')"
   ]
  },
  {
   "cell_type": "markdown",
   "metadata": {},
   "source": [
    "### 7. Write a program to convert the number of days to ages"
   ]
  },
  {
   "cell_type": "code",
   "execution_count": 13,
   "metadata": {},
   "outputs": [
    {
     "name": "stdout",
     "output_type": "stream",
     "text": [
      "Enter Days:896\n",
      "2.4547945205479453\n"
     ]
    }
   ],
   "source": [
    "days = int(input(\"Enter Days:\"))\n",
    "age = days/365\n",
    "print(age)"
   ]
  },
  {
   "cell_type": "markdown",
   "metadata": {},
   "source": [
    "### 8. Solve Trigonometry problem using math function write a program to solve using math function"
   ]
  },
  {
   "cell_type": "code",
   "execution_count": 19,
   "metadata": {},
   "outputs": [
    {
     "name": "stdout",
     "output_type": "stream",
     "text": [
      "Enter operation :sin\n",
      "Enter Degress: 0\n"
     ]
    },
    {
     "data": {
      "text/plain": [
       "0.0"
      ]
     },
     "execution_count": 19,
     "metadata": {},
     "output_type": "execute_result"
    }
   ],
   "source": [
    "import math\n",
    "def trigono(a, b):\n",
    "    if a =='sin':\n",
    "        return math.sin(b)\n",
    "    elif a =='cos':\n",
    "        return math.cos(b)\n",
    "    elif a =='cosin':\n",
    "        return math.cosine(b)\n",
    "    elif a =='tan':\n",
    "        return math.tan(b)\n",
    "    elif a =='sec':\n",
    "        return math.sec(b)\n",
    "    elif a =='cosec':\n",
    "        return math.cosec(b)\n",
    "ava = input(\"Enter operation :\")\n",
    "bva = int(input(\"Enter Degress: \"))\n",
    "trigono(ava, bva)"
   ]
  },
  {
   "cell_type": "markdown",
   "metadata": {},
   "source": [
    "### 9. Create a calculator only on a code level by using if condition (Basic arithmetic calculation)"
   ]
  },
  {
   "cell_type": "code",
   "execution_count": 14,
   "metadata": {},
   "outputs": [
    {
     "name": "stdout",
     "output_type": "stream",
     "text": [
      "Calculator\n",
      "1.Add\n",
      "2.Substract\n",
      "3.Multiply\n",
      "4.Divide\n",
      "Choose any operation(1-4):2\n",
      "enter a:96\n",
      "enter b:36\n",
      "difference =  60\n"
     ]
    }
   ],
   "source": [
    "print('Calculator')\n",
    "print(\"1.Add\")\n",
    "print(\"2.Substract\")\n",
    "print(\"3.Multiply\")\n",
    "print(\"4.Divide\")\n",
    "\n",
    "choice = int(input(\"Choose any operation(1-4):\"))\n",
    "\n",
    "if choice ==1:\n",
    "    a =int(input(\"enter a:\"))\n",
    "    b = int(input(\"enter b:\"))\n",
    "    c = a+b\n",
    "    print(\"sum=\",c)\n",
    "elif choice == 2:\n",
    "    a = int(input(\"enter a:\"))\n",
    "    b = int(input(\"enter b:\"))\n",
    "    c = a - b\n",
    "    print(\"difference = \",c)\n",
    "elif choice==3:\n",
    "    a = int(input(\"enter a:\"))\n",
    "    b = int(input(\"enter b:\"))\n",
    "    c = a * b\n",
    "    print(\"product = \", c)\n",
    "elif choice==4:\n",
    "    a = int(input(\"enter a:\"))\n",
    "    b = int(input(\"enter b:\"))\n",
    "    c = a / b\n",
    "    print(\"quotient = \", c)"
   ]
  }
 ],
 "metadata": {
  "kernelspec": {
   "display_name": "Python 3",
   "language": "python",
   "name": "python3"
  },
  "language_info": {
   "codemirror_mode": {
    "name": "ipython",
    "version": 3
   },
   "file_extension": ".py",
   "mimetype": "text/x-python",
   "name": "python",
   "nbconvert_exporter": "python",
   "pygments_lexer": "ipython3",
   "version": "3.8.6"
  }
 },
 "nbformat": 4,
 "nbformat_minor": 2
}
